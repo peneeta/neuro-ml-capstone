{
 "cells": [
  {
   "cell_type": "markdown",
   "id": "224ab961",
   "metadata": {},
   "source": [
    "# Training NeuroUNET\n",
    "Testing training UNET model on a small subset of the data\n",
    "\n",
    "TODO - try on an even smaller subset of data - 5 images split into tiles"
   ]
  },
  {
   "cell_type": "code",
   "execution_count": null,
   "id": "1f8c0d7a",
   "metadata": {},
   "outputs": [],
   "source": [
    "from torch.utils.data import DataLoader\n",
    "from pathlib import Path\n",
    "import tqdm as notebook_tqdm\n",
    "\n",
    "# custom\n",
    "from dataset import EMDataset\n",
    "from image_preprocessing import PreprocessImage\n",
    "from model import train_model, NeuroUNET"
   ]
  },
  {
   "cell_type": "code",
   "execution_count": 2,
   "id": "416e01b9",
   "metadata": {},
   "outputs": [],
   "source": [
    "# Collect image paths\n",
    "image_dir = Path(\"./images/processed_zstack\")\n",
    "img_list = list(image_dir.glob(\"*.tif\"))\n",
    "\n",
    "# Split into train/val sets\n",
    "train_split = int(0.8 * len(img_list))\n",
    "train_idx = img_list[:train_split]\n",
    "val_idx = img_list[train_split:]"
   ]
  },
  {
   "cell_type": "code",
   "execution_count": 3,
   "id": "58c81d81",
   "metadata": {},
   "outputs": [],
   "source": [
    "# Create datasets\n",
    "train_dataset = EMDataset(\n",
    "    image_paths=train_idx,\n",
    "    tile_size=256,\n",
    "    stride=128,  # 50% overlap for training\n",
    "    preprocess_fn=PreprocessImage,\n",
    "    augment=True\n",
    ")\n",
    "\n",
    "val_dataset = EMDataset(\n",
    "    image_paths=val_idx,\n",
    "    tile_size=256,\n",
    "    stride=256,  # No overlap for validation\n",
    "    preprocess_fn=PreprocessImage,\n",
    "    augment=False\n",
    ")\n"
   ]
  },
  {
   "cell_type": "code",
   "execution_count": 4,
   "id": "e4b22f40",
   "metadata": {},
   "outputs": [],
   "source": [
    "# Create dataloaders\n",
    "train_loader = DataLoader(\n",
    "    train_dataset,\n",
    "    batch_size=16,\n",
    "    shuffle=True,\n",
    "    num_workers=4,\n",
    "    pin_memory=True\n",
    ")\n",
    "\n",
    "val_loader = DataLoader(\n",
    "    val_dataset,\n",
    "    batch_size=16,\n",
    "    shuffle=False,\n",
    "    num_workers=4,\n",
    "    pin_memory=True\n",
    ")"
   ]
  },
  {
   "cell_type": "code",
   "execution_count": 5,
   "id": "95b9a54d",
   "metadata": {},
   "outputs": [
    {
     "name": "stdout",
     "output_type": "stream",
     "text": [
      "Training dataset: 27166 tiles\n",
      "Validation dataset: 1944 tiles\n"
     ]
    }
   ],
   "source": [
    "print(f\"Training dataset: {len(train_dataset)} tiles\")\n",
    "print(f\"Validation dataset: {len(val_dataset)} tiles\")"
   ]
  },
  {
   "cell_type": "code",
   "execution_count": 6,
   "id": "7e8ff93a",
   "metadata": {},
   "outputs": [
    {
     "name": "stdout",
     "output_type": "stream",
     "text": [
      "Total parameters: 7702466\n"
     ]
    }
   ],
   "source": [
    "model = NeuroUNET(in_channels=2, out_channels=2)\n",
    "print(f'Total parameters: {sum(p.numel() for p in model.parameters())}')"
   ]
  },
  {
   "cell_type": "code",
   "execution_count": null,
   "id": "5b6a9f88",
   "metadata": {},
   "outputs": [
    {
     "name": "stdout",
     "output_type": "stream",
     "text": [
      "Batch 0: shape torch.Size([16, 4, 256, 256])\n"
     ]
    },
    {
     "name": "stderr",
     "output_type": "stream",
     "text": [
      "/Users/peneeta/.local/lib/python3.11/site-packages/tqdm/auto.py:21: TqdmWarning: IProgress not found. Please update jupyter and ipywidgets. See https://ipywidgets.readthedocs.io/en/stable/user_install.html\n",
      "  from .autonotebook import tqdm as notebook_tqdm\n"
     ]
    },
    {
     "ename": "",
     "evalue": "",
     "output_type": "error",
     "traceback": [
      "\u001b[1;31mThe Kernel crashed while executing code in the current cell or a previous cell. \n",
      "\u001b[1;31mPlease review the code in the cell(s) to identify a possible cause of the failure. \n",
      "\u001b[1;31mClick <a href='https://aka.ms/vscodeJupyterKernelCrash'>here</a> for more info. \n",
      "\u001b[1;31mView Jupyter <a href='command:jupyter.viewOutput'>log</a> for further details."
     ]
    }
   ],
   "source": [
    "# okay need much more memory here :/\n",
    "for batch_idx, batch in enumerate(train_loader):\n",
    "    print(f\"Batch {batch_idx}: shape {batch.shape}\")\n",
    "    \n",
    "    train_model(model, train_loader, val_loader, device='cpu')\n",
    "    \n",
    "    if batch_idx == 0:\n",
    "        break"
   ]
  }
 ],
 "metadata": {
  "kernelspec": {
   "display_name": "pyML",
   "language": "python",
   "name": "python3"
  },
  "language_info": {
   "codemirror_mode": {
    "name": "ipython",
    "version": 3
   },
   "file_extension": ".py",
   "mimetype": "text/x-python",
   "name": "python",
   "nbconvert_exporter": "python",
   "pygments_lexer": "ipython3",
   "version": "3.11.14"
  }
 },
 "nbformat": 4,
 "nbformat_minor": 5
}
